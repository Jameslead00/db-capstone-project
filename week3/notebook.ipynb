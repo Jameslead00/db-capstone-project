{
 "cells": [
  {
   "cell_type": "code",
   "execution_count": 29,
   "metadata": {},
   "outputs": [
    {
     "name": "stderr",
     "output_type": "stream",
     "text": [
      "2140.31s - pydevd: Sending message related to process being replaced timed-out after 5 seconds\n"
     ]
    },
    {
     "name": "stdout",
     "output_type": "stream",
     "text": [
      "Defaulting to user installation because normal site-packages is not writeable\n",
      "Requirement already satisfied: mysql-connector-python in /home/jameslead/.local/lib/python3.10/site-packages (8.0.33)\n",
      "Requirement already satisfied: protobuf<=3.20.3,>=3.11.0 in /usr/lib/python3/dist-packages (from mysql-connector-python) (3.12.4)\n"
     ]
    }
   ],
   "source": [
    "!pip install mysql-connector-python"
   ]
  },
  {
   "cell_type": "code",
   "execution_count": 43,
   "metadata": {},
   "outputs": [],
   "source": [
    "import mysql.connector as connector"
   ]
  },
  {
   "cell_type": "code",
   "execution_count": 44,
   "metadata": {},
   "outputs": [],
   "source": [
    "connection = connector.connect(user = \"root\", password = \"\", db = \"littlelemondb\")"
   ]
  },
  {
   "cell_type": "code",
   "execution_count": 45,
   "metadata": {},
   "outputs": [],
   "source": [
    "cursor = connection.cursor(buffered=True)"
   ]
  },
  {
   "cell_type": "code",
   "execution_count": 47,
   "metadata": {},
   "outputs": [
    {
     "name": "stdout",
     "output_type": "stream",
     "text": [
      "bookings\n",
      "contactdetails\n",
      "customers\n",
      "menuitems\n",
      "menus\n",
      "orderdeliverystatus\n",
      "orders\n",
      "ordersview\n",
      "staff\n"
     ]
    }
   ],
   "source": [
    "show_tables_query = \"\"\"SHOW tables\"\"\"\n",
    "cursor.execute(show_tables_query)\n",
    "\n",
    "tables = cursor.fetchall()\n",
    "for table in tables:\n",
    "    print(table[0])"
   ]
  },
  {
   "cell_type": "code",
   "execution_count": 55,
   "metadata": {},
   "outputs": [],
   "source": [
    "join_query = \"\"\"\n",
    "    SELECT\n",
    "    c.Name AS FullName,\n",
    "    cd.PhoneNumber AS PhoneNumber,\n",
    "    cd.Location AS Location,\n",
    "    o.TotalCost AS Cost\n",
    "FROM\n",
    "    customers c\n",
    "INNER JOIN\n",
    "    contactdetails cd ON c.CustomerID = cd.Customers_CustomerID\n",
    "INNER JOIN\n",
    "    orders o ON c.CustomerID = o.Customers_CustomerID\n",
    "WHERE\n",
    "    o.TotalCost > 0\n",
    "ORDER BY\n",
    "    o.TotalCost DESC;\n",
    "\"\"\"\n",
    "cursor.execute(join_query)\n",
    "customers = cursor.fetchall()\n",
    "\n",
    "for customer in customers:\n",
    "    print(customer)"
   ]
  }
 ],
 "metadata": {
  "kernelspec": {
   "display_name": "Python 3",
   "language": "python",
   "name": "python3"
  },
  "language_info": {
   "codemirror_mode": {
    "name": "ipython",
    "version": 3
   },
   "file_extension": ".py",
   "mimetype": "text/x-python",
   "name": "python",
   "nbconvert_exporter": "python",
   "pygments_lexer": "ipython3",
   "version": "3.10.6"
  },
  "orig_nbformat": 4
 },
 "nbformat": 4,
 "nbformat_minor": 2
}
